{
  "cells": [
    {
      "cell_type": "markdown",
      "metadata": {
        "id": "view-in-github",
        "colab_type": "text"
      },
      "source": [
        "<a href=\"https://colab.research.google.com/github/roshinisrija/Quiz-Performance-Analysis-steps/blob/main/quiz_performance.ipynb\" target=\"_parent\"><img src=\"https://colab.research.google.com/assets/colab-badge.svg\" alt=\"Open In Colab\"/></a>"
      ]
    },
    {
      "cell_type": "code",
      "execution_count": 5,
      "metadata": {
        "colab": {
          "base_uri": "https://localhost:8080/"
        },
        "id": "19Pp3-BHa-Gs",
        "outputId": "4ea0cdc2-96fb-48d4-90cf-5934d43b4942"
      },
      "outputs": [
        {
          "output_type": "stream",
          "name": "stdout",
          "text": [
            "Current Quiz Data:\n",
            "   quiz.id quiz.name                                         quiz.title  \\\n",
            "0       43      None  Structural Organisation in Animals and Plants (7)   \n",
            "\n",
            "  quiz.description quiz.difficulty_level                          quiz.topic  \\\n",
            "0                                   None  Structural Organisation in Animals   \n",
            "\n",
            "                       quiz.time  quiz.is_published  \\\n",
            "0  2024-07-03T00:00:00.000+05:30               True   \n",
            "\n",
            "                 quiz.created_at                quiz.updated_at  ...  \\\n",
            "0  2024-07-03T11:00:08.958+05:30  2024-09-23T18:43:27.751+05:30  ...   \n",
            "\n",
            "   quiz.exam_id quiz.show_unanswered quiz.ends_at quiz.lives  quiz.live_count  \\\n",
            "0          None                False   2025-01-18       None        Free Test   \n",
            "\n",
            "   quiz.coin_count  quiz.questions_count   quiz.daily_date  \\\n",
            "0               -1                   128  January 17, 2025   \n",
            "\n",
            "   quiz.max_mistake_count                                     quiz.questions  \n",
            "0                      15  [{'id': 1827, 'description': 'The tissue which...  \n",
            "\n",
            "[1 rows x 32 columns]\n",
            "\n",
            "Historical Quiz Data:\n",
            "       id  quiz_id                       user_id  \\\n",
            "0  336566       43  7ZXdz3zHuNcdg9agb5YpaOGLQqw2   \n",
            "\n",
            "                    submitted_at                     created_at  \\\n",
            "0  2025-01-17T15:51:29.859+05:30  2025-01-17T15:51:29.871+05:30   \n",
            "\n",
            "                      updated_at  score  trophy_level accuracy speed  ...  \\\n",
            "0  2025-01-17T15:51:29.871+05:30     32             2     80 %   100  ...   \n",
            "\n",
            "  quiz.exam_id quiz.show_unanswered  quiz.ends_at  quiz.lives quiz.live_count  \\\n",
            "0         None                False    2025-01-18        None       Free Test   \n",
            "\n",
            "  quiz.coin_count quiz.questions_count   quiz.daily_date  \\\n",
            "0              -1                  128  January 17, 2025   \n",
            "\n",
            "  quiz.max_mistake_count  quiz.reading_materials  \n",
            "0                     15                      []  \n",
            "\n",
            "[1 rows x 68 columns]\n",
            "\n",
            "Additional Historical Data:\n",
            "       id  quiz_id                       user_id  \\\n",
            "0  336497       51  YcDFSO4ZukTJnnFMgRNVwZTE4j42   \n",
            "1  336448        6  YcDFSO4ZukTJnnFMgRNVwZTE4j42   \n",
            "2  333330       51  YcDFSO4ZukTJnnFMgRNVwZTE4j42   \n",
            "3  333242        6  YcDFSO4ZukTJnnFMgRNVwZTE4j42   \n",
            "4  329504       51  YcDFSO4ZukTJnnFMgRNVwZTE4j42   \n",
            "\n",
            "                    submitted_at                     created_at  \\\n",
            "0  2025-01-17T15:30:18.027+05:30  2025-01-17T15:30:18.044+05:30   \n",
            "1  2025-01-17T15:17:44.042+05:30  2025-01-17T15:17:44.056+05:30   \n",
            "2  2025-01-16T20:13:19.682+05:30  2025-01-16T20:13:19.699+05:30   \n",
            "3  2025-01-16T20:00:11.562+05:30  2025-01-16T20:00:11.573+05:30   \n",
            "4  2025-01-15T20:34:39.462+05:30  2025-01-15T20:34:39.478+05:30   \n",
            "\n",
            "                      updated_at  score  trophy_level accuracy speed  ...  \\\n",
            "0  2025-01-17T15:30:18.044+05:30    108             2     90 %   100  ...   \n",
            "1  2025-01-17T15:17:44.056+05:30     92             1    100 %   100  ...   \n",
            "2  2025-01-16T20:13:19.699+05:30    116             2     96 %   100  ...   \n",
            "3  2025-01-16T20:00:11.573+05:30     36             2     90 %   100  ...   \n",
            "4  2025-01-15T20:34:39.478+05:30     36             3     31 %    96  ...   \n",
            "\n",
            "  response_map.3194 response_map.2417  response_map.2425  response_map.2435  \\\n",
            "0               NaN               NaN                NaN                NaN   \n",
            "1               NaN               NaN                NaN                NaN   \n",
            "2               NaN               NaN                NaN                NaN   \n",
            "3               NaN               NaN                NaN                NaN   \n",
            "4               NaN               NaN                NaN                NaN   \n",
            "\n",
            "  response_map.2440 response_map.2444 response_map.2452 response_map.2459  \\\n",
            "0               NaN               NaN               NaN               NaN   \n",
            "1               NaN               NaN               NaN               NaN   \n",
            "2               NaN               NaN               NaN               NaN   \n",
            "3               NaN               NaN               NaN               NaN   \n",
            "4               NaN               NaN               NaN               NaN   \n",
            "\n",
            "  response_map.2469  response_map.2515  \n",
            "0               NaN                NaN  \n",
            "1               NaN                NaN  \n",
            "2               NaN                NaN  \n",
            "3               NaN                NaN  \n",
            "4               NaN                NaN  \n",
            "\n",
            "[5 rows x 287 columns]\n"
          ]
        }
      ],
      "source": [
        "import json\n",
        "import pandas as pd\n",
        "\n",
        "# Mount Google Drive (optional if you saved files there)\n",
        "# from google.colab import drive\n",
        "# drive.mount('/content/drive')\n",
        "\n",
        "# Load JSON files\n",
        "with open('LLQT.json') as current_quiz_file:\n",
        "    current_quiz_data = json.load(current_quiz_file)\n",
        "\n",
        "with open('rJvd7g.json') as historical_quiz_file:\n",
        "    historical_quiz_data = json.load(historical_quiz_file)\n",
        "\n",
        "with open('XgAgFJ.json') as additional_historical_data_file:\n",
        "    additional_historical_data = json.load(additional_historical_data_file)\n",
        "\n",
        "# Convert data to Pandas DataFrames for analysis\n",
        "current_quiz_df = pd.json_normalize(current_quiz_data)\n",
        "historical_quiz_df = pd.json_normalize(historical_quiz_data)\n",
        "additional_historical_df = pd.json_normalize(additional_historical_data)\n",
        "\n",
        "# Inspect the first few rows\n",
        "print(\"Current Quiz Data:\")\n",
        "print(current_quiz_df.head())\n",
        "\n",
        "print(\"\\nHistorical Quiz Data:\")\n",
        "print(historical_quiz_df.head())\n",
        "\n",
        "print(\"\\nAdditional Historical Data:\")\n",
        "print(additional_historical_df.head())\n",
        "\n"
      ]
    },
    {
      "cell_type": "code",
      "execution_count": null,
      "metadata": {
        "colab": {
          "base_uri": "https://localhost:8080/"
        },
        "id": "1lnvFoj7bjF2",
        "outputId": "a31ecfdc-527c-405b-e168-42c6ff3eacb8"
      },
      "outputs": [
        {
          "name": "stdout",
          "output_type": "stream",
          "text": [
            "Current Quiz Columns:\n",
            " Index(['quiz.id', 'quiz.name', 'quiz.title', 'quiz.description',\n",
            "       'quiz.difficulty_level', 'quiz.topic', 'quiz.time', 'quiz.is_published',\n",
            "       'quiz.created_at', 'quiz.updated_at', 'quiz.duration', 'quiz.end_time',\n",
            "       'quiz.negative_marks', 'quiz.correct_answer_marks', 'quiz.shuffle',\n",
            "       'quiz.show_answers', 'quiz.lock_solutions', 'quiz.is_form',\n",
            "       'quiz.show_mastery_option', 'quiz.quiz_type', 'quiz.is_custom',\n",
            "       'quiz.banner_id', 'quiz.exam_id', 'quiz.show_unanswered',\n",
            "       'quiz.ends_at', 'quiz.lives', 'quiz.live_count', 'quiz.coin_count',\n",
            "       'quiz.questions_count', 'quiz.daily_date', 'quiz.max_mistake_count',\n",
            "       'quiz.questions'],\n",
            "      dtype='object')\n",
            "\n",
            "Historical Quiz Columns:\n",
            " Index(['id', 'quiz_id', 'user_id', 'submitted_at', 'created_at', 'updated_at',\n",
            "       'score', 'trophy_level', 'accuracy', 'speed', 'final_score',\n",
            "       'negative_score', 'correct_answers', 'incorrect_answers', 'source',\n",
            "       'type', 'started_at', 'ended_at', 'duration', 'better_than',\n",
            "       'total_questions', 'rank_text', 'mistakes_corrected',\n",
            "       'initial_mistake_count', 'next_steps', 'response_map.1837',\n",
            "       'response_map.1848', 'response_map.1852', 'response_map.1862',\n",
            "       'response_map.1877', 'response_map.1878', 'response_map.1900',\n",
            "       'response_map.1917', 'response_map.1934', 'response_map.1964',\n",
            "       'quiz.id', 'quiz.name', 'quiz.title', 'quiz.description',\n",
            "       'quiz.difficulty_level', 'quiz.topic', 'quiz.time', 'quiz.is_published',\n",
            "       'quiz.created_at', 'quiz.updated_at', 'quiz.duration', 'quiz.end_time',\n",
            "       'quiz.negative_marks', 'quiz.correct_answer_marks', 'quiz.shuffle',\n",
            "       'quiz.show_answers', 'quiz.lock_solutions', 'quiz.is_form',\n",
            "       'quiz.show_mastery_option', 'quiz.reading_material', 'quiz.quiz_type',\n",
            "       'quiz.is_custom', 'quiz.banner_id', 'quiz.exam_id',\n",
            "       'quiz.show_unanswered', 'quiz.ends_at', 'quiz.lives', 'quiz.live_count',\n",
            "       'quiz.coin_count', 'quiz.questions_count', 'quiz.daily_date',\n",
            "       'quiz.max_mistake_count', 'quiz.reading_materials'],\n",
            "      dtype='object')\n",
            "\n",
            "Missing values in Current Quiz Data:\n",
            " quiz.id                      0\n",
            "quiz.name                    1\n",
            "quiz.title                   0\n",
            "quiz.description             0\n",
            "quiz.difficulty_level        1\n",
            "quiz.topic                   0\n",
            "quiz.time                    0\n",
            "quiz.is_published            0\n",
            "quiz.created_at              0\n",
            "quiz.updated_at              0\n",
            "quiz.duration                0\n",
            "quiz.end_time                0\n",
            "quiz.negative_marks          0\n",
            "quiz.correct_answer_marks    0\n",
            "quiz.shuffle                 0\n",
            "quiz.show_answers            0\n",
            "quiz.lock_solutions          0\n",
            "quiz.is_form                 0\n",
            "quiz.show_mastery_option     0\n",
            "quiz.quiz_type               1\n",
            "quiz.is_custom               0\n",
            "quiz.banner_id               1\n",
            "quiz.exam_id                 1\n",
            "quiz.show_unanswered         0\n",
            "quiz.ends_at                 0\n",
            "quiz.lives                   1\n",
            "quiz.live_count              0\n",
            "quiz.coin_count              0\n",
            "quiz.questions_count         0\n",
            "quiz.daily_date              0\n",
            "quiz.max_mistake_count       0\n",
            "quiz.questions               0\n",
            "dtype: int64\n",
            "\n",
            "Missing values in Historical Quiz Data:\n",
            " id                        0\n",
            "quiz_id                   0\n",
            "user_id                   0\n",
            "submitted_at              0\n",
            "created_at                0\n",
            "                         ..\n",
            "quiz.coin_count           0\n",
            "quiz.questions_count      0\n",
            "quiz.daily_date           0\n",
            "quiz.max_mistake_count    0\n",
            "quiz.reading_materials    0\n",
            "Length: 68, dtype: int64\n",
            "\n",
            "Relevant Fields in Current Quiz Data:\n",
            "                                           quiz.title  \\\n",
            "0  Structural Organisation in Animals and Plants (7)   \n",
            "\n",
            "                           quiz.topic  \n",
            "0  Structural Organisation in Animals  \n",
            "\n",
            "Relevant Fields in Historical Quiz Data:\n",
            "                                           quiz.title  \\\n",
            "0  Structural Organisation in Animals and Plants (7)   \n",
            "\n",
            "                           quiz.topic  \n",
            "0  Structural Organisation in Animals  \n"
          ]
        }
      ],
      "source": [
        "# Inspect data structures\n",
        "print(\"Current Quiz Columns:\\n\", current_quiz_df.columns)\n",
        "print(\"\\nHistorical Quiz Columns:\\n\", historical_quiz_df.columns)\n",
        "\n",
        "# Check for missing values\n",
        "print(\"\\nMissing values in Current Quiz Data:\\n\", current_quiz_df.isnull().sum())\n",
        "print(\"\\nMissing values in Historical Quiz Data:\\n\", historical_quiz_df.isnull().sum())\n",
        "\n",
        "# Extract relevant fields, ensuring correct column names are used\n",
        "current_quiz_relevant = current_quiz_df[['quiz.title', 'quiz.topic']]  # Removed 'score', 'accuracy', 'response_map'\n",
        "historical_quiz_relevant = historical_quiz_df[['quiz.title', 'quiz.topic']]  # Removed 'score', 'accuracy', 'response_map'\n",
        "\n",
        "print(\"\\nRelevant Fields in Current Quiz Data:\\n\", current_quiz_relevant.head())\n",
        "print(\"\\nRelevant Fields in Historical Quiz Data:\\n\", historical_quiz_relevant.head())"
      ]
    },
    {
      "cell_type": "code",
      "execution_count": null,
      "metadata": {
        "colab": {
          "base_uri": "https://localhost:8080/",
          "height": 989
        },
        "id": "5nLpYKZwcCSG",
        "outputId": "5f6c9457-ca34-444e-cbd5-6277bce07f26"
      },
      "outputs": [
        {
          "name": "stdout",
          "output_type": "stream",
          "text": [
            "\n",
            "Current Quiz Topic Frequency:\n",
            " quiz.topic\n",
            "Structural Organisation in Animals    1\n",
            "Name: count, dtype: int64\n",
            "\n",
            "Historical Quiz Topic Frequency:\n",
            " quiz.topic\n",
            "Structural Organisation in Animals    1\n",
            "Name: count, dtype: int64\n",
            "\n",
            "Combined Topic Frequency:\n",
            "                                     Current Quizzes  Historical Quizzes\n",
            "quiz.topic                                                             \n",
            "Structural Organisation in Animals                1                   1\n"
          ]
        },
        {
          "data": {
            "image/png": "[encoded data removed]",
            "text/plain": [
              "<Figure size 1000x600 with 1 Axes>"
            ]
          },
          "metadata": {},
          "output_type": "display_data"
        }
      ],
      "source": [
        "# Analyze topic frequency in current quiz data\n",
        "current_topic_counts = current_quiz_relevant['quiz.topic'].value_counts()\n",
        "print(\"\\nCurrent Quiz Topic Frequency:\\n\", current_topic_counts)\n",
        "\n",
        "# Analyze topic frequency in historical quiz data\n",
        "historical_topic_counts = historical_quiz_relevant['quiz.topic'].value_counts()\n",
        "print(\"\\nHistorical Quiz Topic Frequency:\\n\", historical_topic_counts)\n",
        "\n",
        "# Combine the two for comparison (optional)\n",
        "combined_topic_counts = pd.DataFrame({\n",
        "    'Current Quizzes': current_topic_counts,\n",
        "    'Historical Quizzes': historical_topic_counts\n",
        "}).fillna(0)\n",
        "\n",
        "print(\"\\nCombined Topic Frequency:\\n\", combined_topic_counts)\n",
        "\n",
        "# Plot topic frequency\n",
        "import matplotlib.pyplot as plt\n",
        "\n",
        "combined_topic_counts.plot(kind='bar', figsize=(10, 6))\n",
        "plt.title(\"Topic Frequency Comparison\")\n",
        "plt.xlabel(\"Topics\")\n",
        "plt.ylabel(\"Number of Quizzes\")\n",
        "plt.xticks(rotation=45)\n",
        "plt.show()\n"
      ]
    },
    {
      "cell_type": "code",
      "execution_count": null,
      "metadata": {
        "colab": {
          "base_uri": "https://localhost:8080/",
          "height": 816
        },
        "id": "BbnzQzjacFpr",
        "outputId": "c50c7cad-08d6-430c-83bc-07c622e5f911"
      },
      "outputs": [
        {
          "name": "stdout",
          "output_type": "stream",
          "text": [
            "\n",
            "Average Scores by Topic:\n",
            "                                     Current Avg Score  Historical Avg Score\n",
            "quiz.topic                                                                 \n",
            "Structural Organisation in Animals               75.0                  70.0\n"
          ]
        },
        {
          "data": {
            "image/png": "[encoded data removed]",
            "text/plain": [
              "<Figure size 1000x600 with 1 Axes>"
            ]
          },
          "metadata": {},
          "output_type": "display_data"
        }
      ],
      "source": [
        "# Add dummy score data for demonstration if scores are unavailable\n",
        "if 'quiz.score' not in current_quiz_df.columns:\n",
        "    # Assign a single value if the DataFrame has only one row\n",
        "    if len(current_quiz_df) == 1:\n",
        "        current_quiz_df['quiz.score'] = [75]  # Or any single value\n",
        "    else:\n",
        "        current_quiz_df['quiz.score'] = [75, 65, 80, 60, 90]  # Replace with actual data if available\n",
        "if 'quiz.score' not in historical_quiz_df.columns:\n",
        "    # Similarly, adjust for historical_quiz_df if needed\n",
        "    if len(historical_quiz_df) == 1:\n",
        "        historical_quiz_df['quiz.score'] = [70]  # Or any single value\n",
        "    else:\n",
        "        historical_quiz_df['quiz.score'] = [70, 85, 55, 60, 95]  # Replace with actual data if available\n",
        "\n",
        "# ... (rest of the code remains the same)\n",
        "# Group by topics and calculate average scores\n",
        "current_topic_scores = current_quiz_df.groupby('quiz.topic')['quiz.score'].mean()\n",
        "historical_topic_scores = historical_quiz_df.groupby('quiz.topic')['quiz.score'].mean()\n",
        "\n",
        "# Combine scores for comparison\n",
        "combined_scores = pd.DataFrame({\n",
        "    'Current Avg Score': current_topic_scores,\n",
        "    'Historical Avg Score': historical_topic_scores\n",
        "}).fillna(0)\n",
        "\n",
        "print(\"\\nAverage Scores by Topic:\\n\", combined_scores)\n",
        "\n",
        "# Plot performance trends\n",
        "combined_scores.plot(kind='bar', figsize=(10, 6))\n",
        "plt.title(\"Performance Trends by Topic\")\n",
        "plt.xlabel(\"Topics\")\n",
        "plt.ylabel(\"Average Score\")\n",
        "plt.xticks(rotation=45)\n",
        "plt.show()\n"
      ]
    },
    {
      "cell_type": "code",
      "execution_count": null,
      "metadata": {
        "colab": {
          "base_uri": "https://localhost:8080/"
        },
        "id": "jqqJm90scbvu",
        "outputId": "7ef137e6-3343-4b3e-8ddb-322839b75a33"
      },
      "outputs": [
        {
          "name": "stdout",
          "output_type": "stream",
          "text": [
            "\n",
            "Weak Topics for Improvement:\n",
            " Empty DataFrame\n",
            "Columns: [Current Avg Score, Historical Avg Score]\n",
            "Index: []\n",
            "\n",
            "Personalized Recommendations:\n"
          ]
        }
      ],
      "source": [
        "# Identify weak topics (low scores in current data)\n",
        "weak_topics = combined_scores[combined_scores['Current Avg Score'] < 60]\n",
        "print(\"\\nWeak Topics for Improvement:\\n\", weak_topics)\n",
        "\n",
        "# Generate recommendations\n",
        "recommendations = []\n",
        "for topic in weak_topics.index:\n",
        "    recommendations.append(f\"Focus on the topic '{topic}' with more practice questions.\")\n",
        "\n",
        "# Additional Suggestions\n",
        "if not weak_topics.empty:\n",
        "    recommendations.append(\"Review solutions for incorrect answers in these topics.\")\n",
        "    recommendations.append(\"Take quizzes of medium difficulty to strengthen weak areas.\")\n",
        "\n",
        "# Print recommendations\n",
        "print(\"\\nPersonalized Recommendations:\")\n",
        "for rec in recommendations:\n",
        "    print(f\"- {rec}\")\n"
      ]
    },
    {
      "cell_type": "code",
      "execution_count": null,
      "metadata": {
        "colab": {
          "base_uri": "https://localhost:8080/"
        },
        "id": "ihSVEJcDclCJ",
        "outputId": "293ab5e4-c3db-4776-ce99-b6927d9d1cc5"
      },
      "outputs": [
        {
          "name": "stdout",
          "output_type": "stream",
          "text": [
            "\n",
            "Recommendations saved to 'student_recommendations.csv'\n",
            "\n",
            "Exported Data:\n",
            "Empty DataFrame\n",
            "Columns: [Current Avg Score, Historical Avg Score, Recommendation]\n",
            "Index: []\n"
          ]
        }
      ],
      "source": [
        "# Export insights and recommendations to a CSV file\n",
        "output_data = weak_topics.copy()\n",
        "output_data['Recommendation'] = [f\"Focus on '{topic}' and practice more.\" for topic in weak_topics.index]\n",
        "\n",
        "# Save to CSV\n",
        "output_data.to_csv(\"student_recommendations.csv\", index=True)\n",
        "print(\"\\nRecommendations saved to 'student_recommendations.csv'\")\n",
        "\n",
        "# Optionally, preview the file content\n",
        "print(\"\\nExported Data:\")\n",
        "print(output_data.head())\n"
      ]
    },
    {
      "cell_type": "code",
      "execution_count": null,
      "metadata": {
        "colab": {
          "background_save": true,
          "base_uri": "https://localhost:8080/"
        },
        "id": "lrnUoMUvcskB",
        "outputId": "f2cfb10f-963d-432d-fa63-e2ea4253942a"
      },
      "outputs": [
        {
          "name": "stdout",
          "output_type": "stream",
          "text": [
            " * Serving Flask app '__main__'\n",
            " * Debug mode: on\n"
          ]
        },
        {
          "name": "stderr",
          "output_type": "stream",
          "text": [
            "INFO:werkzeug:\u001b[31m\u001b[1mWARNING: This is a development server. Do not use it in a production deployment. Use a production WSGI server instead.\u001b[0m\n",
            " * Running on http://127.0.0.1:5000\n",
            "INFO:werkzeug:\u001b[33mPress CTRL+C to quit\u001b[0m\n",
            "INFO:werkzeug: * Restarting with stat\n"
          ]
        }
      ],
      "source": [
        "from flask import Flask, request, jsonify\n",
        "import pandas as pd\n",
        "\n",
        "app = Flask(__name__)\n",
        "\n",
        "# Load the recommendations from the CSV file\n",
        "recommendations_data = pd.read_csv(\"student_recommendations.csv\")\n",
        "\n",
        "@app.route('/recommendations', methods=['GET'])\n",
        "def get_recommendations():\n",
        "    # Retrieve recommendations\n",
        "    recommendations = recommendations_data[['quiz.topic', 'Recommendation']].to_dict(orient='records')\n",
        "    return jsonify(recommendations)\n",
        "\n",
        "if __name__ == '__main__':\n",
        "    app.run(debug=True)\n"
      ]
    },
    {
      "cell_type": "code",
      "source": [
        "pip install flask\n"
      ],
      "metadata": {
        "colab": {
          "base_uri": "https://localhost:8080/"
        },
        "id": "f1P0dc023FKs",
        "outputId": "c0f5919a-3731-491a-dc05-1b1da43eb5d7"
      },
      "execution_count": 1,
      "outputs": [
        {
          "output_type": "stream",
          "name": "stdout",
          "text": [
            "Requirement already satisfied: flask in /usr/local/lib/python3.11/dist-packages (3.1.0)\n",
            "Requirement already satisfied: Werkzeug>=3.1 in /usr/local/lib/python3.11/dist-packages (from flask) (3.1.3)\n",
            "Requirement already satisfied: Jinja2>=3.1.2 in /usr/local/lib/python3.11/dist-packages (from flask) (3.1.5)\n",
            "Requirement already satisfied: itsdangerous>=2.2 in /usr/local/lib/python3.11/dist-packages (from flask) (2.2.0)\n",
            "Requirement already satisfied: click>=8.1.3 in /usr/local/lib/python3.11/dist-packages (from flask) (8.1.8)\n",
            "Requirement already satisfied: blinker>=1.9 in /usr/local/lib/python3.11/dist-packages (from flask) (1.9.0)\n",
            "Requirement already satisfied: MarkupSafe>=2.0 in /usr/local/lib/python3.11/dist-packages (from Jinja2>=3.1.2->flask) (3.0.2)\n"
          ]
        }
      ]
    },
    {
      "cell_type": "code",
      "source": [
        "!pip install flask flask-ngrok\n"
      ],
      "metadata": {
        "colab": {
          "base_uri": "https://localhost:8080/"
        },
        "id": "XOXvQWhk41xN",
        "outputId": "85b69200-2372-4dc3-fed2-8a809b07dfbf"
      },
      "execution_count": 2,
      "outputs": [
        {
          "output_type": "stream",
          "name": "stdout",
          "text": [
            "Requirement already satisfied: flask in /usr/local/lib/python3.11/dist-packages (3.1.0)\n",
            "Collecting flask-ngrok\n",
            "  Downloading flask_ngrok-0.0.25-py3-none-any.whl.metadata (1.8 kB)\n",
            "Requirement already satisfied: Werkzeug>=3.1 in /usr/local/lib/python3.11/dist-packages (from flask) (3.1.3)\n",
            "Requirement already satisfied: Jinja2>=3.1.2 in /usr/local/lib/python3.11/dist-packages (from flask) (3.1.5)\n",
            "Requirement already satisfied: itsdangerous>=2.2 in /usr/local/lib/python3.11/dist-packages (from flask) (2.2.0)\n",
            "Requirement already satisfied: click>=8.1.3 in /usr/local/lib/python3.11/dist-packages (from flask) (8.1.8)\n",
            "Requirement already satisfied: blinker>=1.9 in /usr/local/lib/python3.11/dist-packages (from flask) (1.9.0)\n",
            "Requirement already satisfied: requests in /usr/local/lib/python3.11/dist-packages (from flask-ngrok) (2.32.3)\n",
            "Requirement already satisfied: MarkupSafe>=2.0 in /usr/local/lib/python3.11/dist-packages (from Jinja2>=3.1.2->flask) (3.0.2)\n",
            "Requirement already satisfied: charset-normalizer<4,>=2 in /usr/local/lib/python3.11/dist-packages (from requests->flask-ngrok) (3.4.1)\n",
            "Requirement already satisfied: idna<4,>=2.5 in /usr/local/lib/python3.11/dist-packages (from requests->flask-ngrok) (3.10)\n",
            "Requirement already satisfied: urllib3<3,>=1.21.1 in /usr/local/lib/python3.11/dist-packages (from requests->flask-ngrok) (2.3.0)\n",
            "Requirement already satisfied: certifi>=2017.4.17 in /usr/local/lib/python3.11/dist-packages (from requests->flask-ngrok) (2024.12.14)\n",
            "Downloading flask_ngrok-0.0.25-py3-none-any.whl (3.1 kB)\n",
            "Installing collected packages: flask-ngrok\n",
            "Successfully installed flask-ngrok-0.0.25\n"
          ]
        }
      ]
    },
    {
      "cell_type": "code",
      "source": [
        "from flask import Flask, jsonify\n",
        "from flask_ngrok import run_with_ngrok\n",
        "\n",
        "app = Flask(__name__)\n",
        "run_with_ngrok(app)  # Expose to the internet using ngrok\n",
        "\n",
        "@app.route('/recommendations', methods=['GET'])\n",
        "def get_recommendations():\n",
        "    data = [{\"topic\": \"Biology\", \"recommendation\": \"Practice genetics problems\"},\n",
        "            {\"topic\": \"Physics\", \"recommendation\": \"Revise Newton's laws\"}]\n",
        "    return jsonify(data)\n",
        "\n",
        "if __name__ == '__main__':\n",
        "    app.run()\n"
      ],
      "metadata": {
        "colab": {
          "base_uri": "https://localhost:8080/"
        },
        "id": "13ND3J80436L",
        "outputId": "63133a30-1dd3-4ad2-c6f1-afb4cae80d87"
      },
      "execution_count": 3,
      "outputs": [
        {
          "metadata": {
            "tags": null
          },
          "name": "stdout",
          "output_type": "stream",
          "text": [
            " * Serving Flask app '__main__'\n",
            " * Debug mode: off\n"
          ]
        },
        {
          "metadata": {
            "tags": null
          },
          "name": "stderr",
          "output_type": "stream",
          "text": [
            "INFO:werkzeug:\u001b[31m\u001b[1mWARNING: This is a development server. Do not use it in a production deployment. Use a production WSGI server instead.\u001b[0m\n",
            " * Running on http://127.0.0.1:5000\n",
            "INFO:werkzeug:\u001b[33mPress CTRL+C to quit\u001b[0m\n",
            "Exception in thread Thread-10:\n",
            "Traceback (most recent call last):\n",
            "  File \"/usr/local/lib/python3.11/dist-packages/urllib3/connection.py\", line 198, in _new_conn\n",
            "    sock = connection.create_connection(\n",
            "           ^^^^^^^^^^^^^^^^^^^^^^^^^^^^^\n",
            "  File \"/usr/local/lib/python3.11/dist-packages/urllib3/util/connection.py\", line 85, in create_connection\n",
            "    raise err\n",
            "  File \"/usr/local/lib/python3.11/dist-packages/urllib3/util/connection.py\", line 73, in create_connection\n",
            "    sock.connect(sa)\n",
            "ConnectionRefusedError: [Errno 111] Connection refused\n",
            "\n",
            "The above exception was the direct cause of the following exception:\n",
            "\n",
            "Traceback (most recent call last):\n",
            "  File \"/usr/local/lib/python3.11/dist-packages/urllib3/connectionpool.py\", line 787, in urlopen\n",
            "    response = self._make_request(\n",
            "               ^^^^^^^^^^^^^^^^^^^\n",
            "  File \"/usr/local/lib/python3.11/dist-packages/urllib3/connectionpool.py\", line 493, in _make_request\n",
            "    conn.request(\n",
            "  File \"/usr/local/lib/python3.11/dist-packages/urllib3/connection.py\", line 445, in request\n",
            "    self.endheaders()\n",
            "  File \"/usr/lib/python3.11/http/client.py\", line 1298, in endheaders\n",
            "    self._send_output(message_body, encode_chunked=encode_chunked)\n",
            "  File \"/usr/lib/python3.11/http/client.py\", line 1058, in _send_output\n",
            "    self.send(msg)\n",
            "  File \"/usr/lib/python3.11/http/client.py\", line 996, in send\n",
            "    self.connect()\n",
            "  File \"/usr/local/lib/python3.11/dist-packages/urllib3/connection.py\", line 276, in connect\n",
            "    self.sock = self._new_conn()\n",
            "                ^^^^^^^^^^^^^^^^\n",
            "  File \"/usr/local/lib/python3.11/dist-packages/urllib3/connection.py\", line 213, in _new_conn\n",
            "    raise NewConnectionError(\n",
            "urllib3.exceptions.NewConnectionError: <urllib3.connection.HTTPConnection object at 0x7c8927976ed0>: Failed to establish a new connection: [Errno 111] Connection refused\n",
            "\n",
            "The above exception was the direct cause of the following exception:\n",
            "\n",
            "Traceback (most recent call last):\n",
            "  File \"/usr/local/lib/python3.11/dist-packages/requests/adapters.py\", line 667, in send\n",
            "    resp = conn.urlopen(\n",
            "           ^^^^^^^^^^^^^\n",
            "  File \"/usr/local/lib/python3.11/dist-packages/urllib3/connectionpool.py\", line 841, in urlopen\n",
            "    retries = retries.increment(\n",
            "              ^^^^^^^^^^^^^^^^^^\n",
            "  File \"/usr/local/lib/python3.11/dist-packages/urllib3/util/retry.py\", line 519, in increment\n",
            "    raise MaxRetryError(_pool, url, reason) from reason  # type: ignore[arg-type]\n",
            "    ^^^^^^^^^^^^^^^^^^^^^^^^^^^^^^^^^^^^^^^^^^^^^^^^^^^\n",
            "urllib3.exceptions.MaxRetryError: HTTPConnectionPool(host='localhost', port=4040): Max retries exceeded with url: /api/tunnels (Caused by NewConnectionError('<urllib3.connection.HTTPConnection object at 0x7c8927976ed0>: Failed to establish a new connection: [Errno 111] Connection refused'))\n",
            "\n",
            "During handling of the above exception, another exception occurred:\n",
            "\n",
            "Traceback (most recent call last):\n",
            "  File \"/usr/lib/python3.11/threading.py\", line 1045, in _bootstrap_inner\n",
            "    self.run()\n",
            "  File \"/usr/lib/python3.11/threading.py\", line 1401, in run\n",
            "    self.function(*self.args, **self.kwargs)\n",
            "  File \"/usr/local/lib/python3.11/dist-packages/flask_ngrok.py\", line 70, in start_ngrok\n",
            "    ngrok_address = _run_ngrok()\n",
            "                    ^^^^^^^^^^^^\n",
            "  File \"/usr/local/lib/python3.11/dist-packages/flask_ngrok.py\", line 35, in _run_ngrok\n",
            "    tunnel_url = requests.get(localhost_url).text  # Get the tunnel information\n",
            "                 ^^^^^^^^^^^^^^^^^^^^^^^^^^^\n",
            "  File \"/usr/local/lib/python3.11/dist-packages/requests/api.py\", line 73, in get\n",
            "    return request(\"get\", url, params=params, **kwargs)\n",
            "           ^^^^^^^^^^^^^^^^^^^^^^^^^^^^^^^^^^^^^^^^^^^^\n",
            "  File \"/usr/local/lib/python3.11/dist-packages/requests/api.py\", line 59, in request\n",
            "    return session.request(method=method, url=url, **kwargs)\n",
            "           ^^^^^^^^^^^^^^^^^^^^^^^^^^^^^^^^^^^^^^^^^^^^^^^^^\n",
            "  File \"/usr/local/lib/python3.11/dist-packages/requests/sessions.py\", line 589, in request\n",
            "    resp = self.send(prep, **send_kwargs)\n",
            "           ^^^^^^^^^^^^^^^^^^^^^^^^^^^^^^\n",
            "  File \"/usr/local/lib/python3.11/dist-packages/requests/sessions.py\", line 703, in send\n",
            "    r = adapter.send(request, **kwargs)\n",
            "        ^^^^^^^^^^^^^^^^^^^^^^^^^^^^^^^\n",
            "  File \"/usr/local/lib/python3.11/dist-packages/requests/adapters.py\", line 700, in send\n",
            "    raise ConnectionError(e, request=request)\n",
            "requests.exceptions.ConnectionError: HTTPConnectionPool(host='localhost', port=4040): Max retries exceeded with url: /api/tunnels (Caused by NewConnectionError('<urllib3.connection.HTTPConnection object at 0x7c8927976ed0>: Failed to establish a new connection: [Errno 111] Connection refused'))\n"
          ]
        }
      ]
    },
    {
      "cell_type": "code",
      "source": [
        "from flask import Flask, jsonify\n",
        "\n",
        "app = Flask(__name__)\n",
        "\n",
        "# Mock recommendations data\n",
        "recommendations_data = [\n",
        "    {\"topic\": \"Biology\", \"recommendation\": \"Focus on genetics and molecular biology.\"},\n",
        "    {\"topic\": \"Physics\", \"recommendation\": \"Revise Newton's laws and practice problem-solving.\"},\n",
        "    {\"topic\": \"Chemistry\", \"recommendation\": \"Work on organic chemistry and reaction mechanisms.\"}\n",
        "]\n",
        "\n",
        "@app.route('/recommendations', methods=['GET'])\n",
        "def get_recommendations():\n",
        "    \"\"\"Return recommendations as a JSON response.\"\"\"\n",
        "    return jsonify(recommendations_data)\n",
        "\n",
        "if __name__ == '__main__':\n",
        "    app.run(debug=True)\n"
      ],
      "metadata": {
        "colab": {
          "base_uri": "https://localhost:8080/"
        },
        "id": "0COvIDHt8gxg",
        "outputId": "7859ed64-871f-45ae-d24f-c7f21d84018c"
      },
      "execution_count": 4,
      "outputs": [
        {
          "output_type": "stream",
          "name": "stdout",
          "text": [
            " * Serving Flask app '__main__'\n",
            " * Debug mode: on\n"
          ]
        },
        {
          "output_type": "stream",
          "name": "stderr",
          "text": [
            "INFO:werkzeug:\u001b[31m\u001b[1mWARNING: This is a development server. Do not use it in a production deployment. Use a production WSGI server instead.\u001b[0m\n",
            " * Running on http://127.0.0.1:5000\n",
            "INFO:werkzeug:\u001b[33mPress CTRL+C to quit\u001b[0m\n",
            "INFO:werkzeug: * Restarting with stat\n"
          ]
        }
      ]
    }
  ],
  "metadata": {
    "colab": {
      "provenance": [],
      "authorship_tag": "ABX9TyNF6kNv6kkoVMjQltB2uvzM",
      "include_colab_link": true
    },
    "kernelspec": {
      "display_name": "Python 3",
      "name": "python3"
    },
    "language_info": {
      "name": "python"
    }
  },
  "nbformat": 4,
  "nbformat_minor": 0
}